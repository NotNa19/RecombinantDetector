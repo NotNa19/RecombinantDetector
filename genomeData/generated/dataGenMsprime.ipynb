{
  "nbformat": 4,
  "nbformat_minor": 0,
  "metadata": {
    "colab": {
      "provenance": []
    },
    "kernelspec": {
      "name": "python3",
      "display_name": "Python 3"
    },
    "language_info": {
      "name": "python"
    }
  },
  "cells": [
    {
      "cell_type": "code",
      "source": [
        "!pip install msprime"
      ],
      "metadata": {
        "colab": {
          "base_uri": "https://localhost:8080/"
        },
        "id": "c2w76yR74HEg",
        "outputId": "680a778b-45a6-4358-ab6e-29ece5cd5d5e"
      },
      "execution_count": 1,
      "outputs": [
        {
          "output_type": "stream",
          "name": "stdout",
          "text": [
            "Collecting msprime\n",
            "  Downloading msprime-1.3.3-cp310-cp310-manylinux_2_17_x86_64.manylinux2014_x86_64.whl.metadata (3.6 kB)\n",
            "Requirement already satisfied: numpy>=1.23.5 in /usr/local/lib/python3.10/dist-packages (from msprime) (1.26.4)\n",
            "Collecting newick>=1.3.0 (from msprime)\n",
            "  Downloading newick-1.9.0-py2.py3-none-any.whl.metadata (8.4 kB)\n",
            "Collecting tskit>=0.5.2 (from msprime)\n",
            "  Downloading tskit-0.5.8-cp310-cp310-manylinux_2_17_x86_64.manylinux2014_x86_64.whl.metadata (2.0 kB)\n",
            "Collecting demes>=0.2 (from msprime)\n",
            "  Downloading demes-0.2.3-py3-none-any.whl.metadata (1.9 kB)\n",
            "Requirement already satisfied: attrs>=20.3.0 in /usr/local/lib/python3.10/dist-packages (from demes>=0.2->msprime) (24.2.0)\n",
            "Collecting ruamel.yaml>=0.15.78 (from demes>=0.2->msprime)\n",
            "  Downloading ruamel.yaml-0.18.6-py3-none-any.whl.metadata (23 kB)\n",
            "Requirement already satisfied: jsonschema>=3.0.0 in /usr/local/lib/python3.10/dist-packages (from tskit>=0.5.2->msprime) (4.23.0)\n",
            "Collecting svgwrite>=1.1.10 (from tskit>=0.5.2->msprime)\n",
            "  Downloading svgwrite-1.4.3-py3-none-any.whl.metadata (8.8 kB)\n",
            "Requirement already satisfied: jsonschema-specifications>=2023.03.6 in /usr/local/lib/python3.10/dist-packages (from jsonschema>=3.0.0->tskit>=0.5.2->msprime) (2023.12.1)\n",
            "Requirement already satisfied: referencing>=0.28.4 in /usr/local/lib/python3.10/dist-packages (from jsonschema>=3.0.0->tskit>=0.5.2->msprime) (0.35.1)\n",
            "Requirement already satisfied: rpds-py>=0.7.1 in /usr/local/lib/python3.10/dist-packages (from jsonschema>=3.0.0->tskit>=0.5.2->msprime) (0.20.0)\n",
            "Collecting ruamel.yaml.clib>=0.2.7 (from ruamel.yaml>=0.15.78->demes>=0.2->msprime)\n",
            "  Downloading ruamel.yaml.clib-0.2.8-cp310-cp310-manylinux_2_17_x86_64.manylinux2014_x86_64.manylinux_2_24_x86_64.whl.metadata (2.2 kB)\n",
            "Downloading msprime-1.3.3-cp310-cp310-manylinux_2_17_x86_64.manylinux2014_x86_64.whl (5.7 MB)\n",
            "\u001b[2K   \u001b[90m━━━━━━━━━━━━━━━━━━━━━━━━━━━━━━━━━━━━━━━━\u001b[0m \u001b[32m5.7/5.7 MB\u001b[0m \u001b[31m36.4 MB/s\u001b[0m eta \u001b[36m0:00:00\u001b[0m\n",
            "\u001b[?25hDownloading demes-0.2.3-py3-none-any.whl (40 kB)\n",
            "\u001b[2K   \u001b[90m━━━━━━━━━━━━━━━━━━━━━━━━━━━━━━━━━━━━━━━━\u001b[0m \u001b[32m40.9/40.9 kB\u001b[0m \u001b[31m2.1 MB/s\u001b[0m eta \u001b[36m0:00:00\u001b[0m\n",
            "\u001b[?25hDownloading newick-1.9.0-py2.py3-none-any.whl (15 kB)\n",
            "Downloading tskit-0.5.8-cp310-cp310-manylinux_2_17_x86_64.manylinux2014_x86_64.whl (1.2 MB)\n",
            "\u001b[2K   \u001b[90m━━━━━━━━━━━━━━━━━━━━━━━━━━━━━━━━━━━━━━━━\u001b[0m \u001b[32m1.2/1.2 MB\u001b[0m \u001b[31m22.8 MB/s\u001b[0m eta \u001b[36m0:00:00\u001b[0m\n",
            "\u001b[?25hDownloading ruamel.yaml-0.18.6-py3-none-any.whl (117 kB)\n",
            "\u001b[2K   \u001b[90m━━━━━━━━━━━━━━━━━━━━━━━━━━━━━━━━━━━━━━━━\u001b[0m \u001b[32m117.8/117.8 kB\u001b[0m \u001b[31m6.0 MB/s\u001b[0m eta \u001b[36m0:00:00\u001b[0m\n",
            "\u001b[?25hDownloading svgwrite-1.4.3-py3-none-any.whl (67 kB)\n",
            "\u001b[2K   \u001b[90m━━━━━━━━━━━━━━━━━━━━━━━━━━━━━━━━━━━━━━━━\u001b[0m \u001b[32m67.1/67.1 kB\u001b[0m \u001b[31m3.5 MB/s\u001b[0m eta \u001b[36m0:00:00\u001b[0m\n",
            "\u001b[?25hDownloading ruamel.yaml.clib-0.2.8-cp310-cp310-manylinux_2_17_x86_64.manylinux2014_x86_64.manylinux_2_24_x86_64.whl (526 kB)\n",
            "\u001b[2K   \u001b[90m━━━━━━━━━━━━━━━━━━━━━━━━━━━━━━━━━━━━━━━━\u001b[0m \u001b[32m526.7/526.7 kB\u001b[0m \u001b[31m17.2 MB/s\u001b[0m eta \u001b[36m0:00:00\u001b[0m\n",
            "\u001b[?25hInstalling collected packages: svgwrite, ruamel.yaml.clib, newick, ruamel.yaml, demes, tskit, msprime\n",
            "Successfully installed demes-0.2.3 msprime-1.3.3 newick-1.9.0 ruamel.yaml-0.18.6 ruamel.yaml.clib-0.2.8 svgwrite-1.4.3 tskit-0.5.8\n"
          ]
        }
      ]
    },
    {
      "cell_type": "code",
      "execution_count": 2,
      "metadata": {
        "id": "8jQfBWkY39R5"
      },
      "outputs": [],
      "source": [
        "import msprime\n",
        "from IPython.display import SVG, display"
      ]
    },
    {
      "cell_type": "code",
      "source": [
        "tree_sequence = msprime.simulate(sample_size=500, Ne=0.5,recombination_rate = 0)\n",
        "tree = tree_sequence.first().newick(precision=10)\n",
        "f = open(\"output_tree.txt\", 'w')\n",
        "f.write(tree)\n",
        "f.close()"
      ],
      "metadata": {
        "id": "FGsbj-4P8dO2"
      },
      "execution_count": 4,
      "outputs": []
    },
    {
      "cell_type": "code",
      "source": [
        "ts = msprime.sim_ancestry(\n",
        "        samples=4,\n",
        "        recombination_rate=0,\n",
        "        sequence_length=10000,\n",
        "        population_size=10_00,\n",
        "        random_seed=123456)\n",
        "# Visualise the simulated ancestral history.\n",
        "SVG(ts.draw_svg())\n",
        "\n",
        "#ts.as_fasta()"
      ],
      "metadata": {
        "colab": {
          "base_uri": "https://localhost:8080/",
          "height": 222
        },
        "id": "hkq9dmZb4p74",
        "outputId": "e55685c4-de68-49f3-e8dd-daa7a4e870e7"
      },
      "execution_count": 5,
      "outputs": [
        {
          "output_type": "execute_result",
          "data": {
            "text/plain": [
              "<IPython.core.display.SVG object>"
            ],
            "image/svg+xml": "<svg xmlns=\"http://www.w3.org/2000/svg\" xmlns:ev=\"http://www.w3.org/2001/xml-events\" xmlns:xlink=\"http://www.w3.org/1999/xlink\" baseProfile=\"full\" height=\"200\" version=\"1.1\" width=\"200\"><defs><style type=\"text/css\"><![CDATA[.background path {fill: #808080; fill-opacity: 0}.background path:nth-child(odd) {fill-opacity: .1}.axes {font-size: 14px}.x-axis .tick .lab {font-weight: bold; dominant-baseline: hanging}.axes, .tree {font-size: 14px; text-anchor: middle}.axes line, .edge {stroke: black; fill: none}.axes .ax-skip {stroke-dasharray: 4}.y-axis .grid {stroke: #FAFAFA}.node > .sym {fill: black; stroke: none}.site > .sym {stroke: black}.mut text {fill: red; font-style: italic}.mut.extra text {fill: hotpink}.mut line {fill: none; stroke: none}.mut .sym {fill: none; stroke: red}.mut.extra .sym {stroke: hotpink}.node .mut .sym {stroke-width: 1.5px}.tree text, .tree-sequence text {dominant-baseline: central}.plotbox .lab.lft {text-anchor: end}.plotbox .lab.rgt {text-anchor: start}]]></style></defs><g class=\"tree-sequence\"><g class=\"background\"><path d=\"M20,0 l160,0 l0,138.2 l0,25 l0,5 l-160,0 l0,-5 l0,-25 l0,-138.2z\"/></g><g class=\"axes\"><g class=\"x-axis\"><g class=\"title\" transform=\"translate(100 200)\"><text class=\"lab\" text-anchor=\"middle\" transform=\"translate(0 -11)\">Genome position</text></g><line class=\"ax-line\" x1=\"20\" x2=\"180\" y1=\"163.2\" y2=\"163.2\"/><g class=\"ticks\"><g class=\"tick\" transform=\"translate(20 163.2)\"><line x1=\"0\" x2=\"0\" y1=\"0\" y2=\"5\"/><g transform=\"translate(0 6)\"><text class=\"lab\">0</text></g></g><g class=\"tick\" transform=\"translate(180 163.2)\"><line x1=\"0\" x2=\"0\" y1=\"0\" y2=\"5\"/><g transform=\"translate(0 6)\"><text class=\"lab\">10000</text></g></g></g></g></g><g class=\"plotbox trees\"><g class=\"tree t0\" transform=\"translate(20 0)\"><g class=\"plotbox\"><g class=\"c2 node n14 p0 root\" transform=\"translate(77.1875 26.8)\"><g class=\"a14 c2 node n12 p0\" transform=\"translate(30.9375 54.5801)\"><g class=\"a12 c2 node n9 p0\" transform=\"translate(16.875 32.8442)\"><g class=\"a9 i1 leaf node n2 p0 sample\" transform=\"translate(-7.5 7.17572)\"><path class=\"edge\" d=\"M 0 0 V -7.17572 H 7.5\"/><rect class=\"sym\" height=\"6\" width=\"6\" x=\"-3\" y=\"-3\"/><text class=\"lab\" transform=\"translate(0 11)\">2</text></g><g class=\"a9 i3 leaf node n7 p0 sample\" transform=\"translate(7.5 7.17572)\"><path class=\"edge\" d=\"M 0 0 V -7.17572 H -7.5\"/><rect class=\"sym\" height=\"6\" width=\"6\" x=\"-3\" y=\"-3\"/><text class=\"lab\" transform=\"translate(0 11)\">7</text></g><path class=\"edge\" d=\"M 0 0 V -32.8442 H -16.875\"/><circle class=\"sym\" cx=\"0\" cy=\"0\" r=\"3\"/><text class=\"lab rgt\" transform=\"translate(3 -7.0)\">9</text></g><g class=\"a12 c2 node n11 p0\" transform=\"translate(-16.875 6.3196)\"><g class=\"a11 i2 leaf node n5 p0 sample\" transform=\"translate(11.25 33.7003)\"><path class=\"edge\" d=\"M 0 0 V -33.7003 H -11.25\"/><rect class=\"sym\" height=\"6\" width=\"6\" x=\"-3\" y=\"-3\"/><text class=\"lab\" transform=\"translate(0 11)\">5</text></g><g class=\"a11 c2 node n10 p0\" transform=\"translate(-11.25 16.944)\"><g class=\"a10 i0 leaf node n1 p0 sample\" transform=\"translate(-7.5 16.7563)\"><path class=\"edge\" d=\"M 0 0 V -16.7563 H 7.5\"/><rect class=\"sym\" height=\"6\" width=\"6\" x=\"-3\" y=\"-3\"/><text class=\"lab\" transform=\"translate(0 11)\">1</text></g><g class=\"a10 i3 leaf node n6 p0 sample\" transform=\"translate(7.5 16.7563)\"><path class=\"edge\" d=\"M 0 0 V -16.7563 H -7.5\"/><rect class=\"sym\" height=\"6\" width=\"6\" x=\"-3\" y=\"-3\"/><text class=\"lab\" transform=\"translate(0 11)\">6</text></g><path class=\"edge\" d=\"M 0 0 V -16.944 H 11.25\"/><circle class=\"sym\" cx=\"0\" cy=\"0\" r=\"3\"/><text class=\"lab lft\" transform=\"translate(-3 -7.0)\">10</text></g><path class=\"edge\" d=\"M 0 0 V -6.3196 H 16.875\"/><circle class=\"sym\" cx=\"0\" cy=\"0\" r=\"3\"/><text class=\"lab lft\" transform=\"translate(-3 -7.0)\">11</text></g><path class=\"edge\" d=\"M 0 0 V -54.5801 H -30.9375\"/><circle class=\"sym\" cx=\"0\" cy=\"0\" r=\"3\"/><text class=\"lab rgt\" transform=\"translate(3 -7.0)\">12</text></g><g class=\"a14 c2 node n13 p0\" transform=\"translate(-30.9375 49.4624)\"><g class=\"a13 i2 leaf node n4 p0 sample\" transform=\"translate(11.25 45.1376)\"><path class=\"edge\" d=\"M 0 0 V -45.1376 H -11.25\"/><rect class=\"sym\" height=\"6\" width=\"6\" x=\"-3\" y=\"-3\"/><text class=\"lab\" transform=\"translate(0 11)\">4</text></g><g class=\"a13 c2 node n8 p0\" transform=\"translate(-11.25 44.8313)\"><g class=\"a8 i0 leaf node n0 p0 sample\" transform=\"translate(-7.5 0.306292)\"><path class=\"edge\" d=\"M 0 0 V -0.306292 H 7.5\"/><rect class=\"sym\" height=\"6\" width=\"6\" x=\"-3\" y=\"-3\"/><text class=\"lab\" transform=\"translate(0 11)\">0</text></g><g class=\"a8 i1 leaf node n3 p0 sample\" transform=\"translate(7.5 0.306292)\"><path class=\"edge\" d=\"M 0 0 V -0.306292 H -7.5\"/><rect class=\"sym\" height=\"6\" width=\"6\" x=\"-3\" y=\"-3\"/><text class=\"lab\" transform=\"translate(0 11)\">3</text></g><path class=\"edge\" d=\"M 0 0 V -44.8313 H 11.25\"/><circle class=\"sym\" cx=\"0\" cy=\"0\" r=\"3\"/><text class=\"lab lft\" transform=\"translate(-3 -7.0)\">8</text></g><path class=\"edge\" d=\"M 0 0 V -49.4624 H 30.9375\"/><circle class=\"sym\" cx=\"0\" cy=\"0\" r=\"3\"/><text class=\"lab lft\" transform=\"translate(-3 -7.0)\">13</text></g><circle class=\"sym\" cx=\"0\" cy=\"0\" r=\"3\"/><text class=\"lab\" transform=\"translate(0 -11)\">14</text></g></g></g></g></g></svg>"
          },
          "metadata": {},
          "execution_count": 5
        }
      ]
    },
    {
      "cell_type": "code",
      "source": [
        "f = open(\"output_tree.txt\", 'w')\n",
        "f.write(ts.first().newick(precision=10))\n",
        "f.close()"
      ],
      "metadata": {
        "id": "fXbQrrVbgZtH"
      },
      "execution_count": 6,
      "outputs": []
    },
    {
      "cell_type": "code",
      "source": [
        "!pip install pyvolve\n",
        "import pyvolve"
      ],
      "metadata": {
        "colab": {
          "base_uri": "https://localhost:8080/"
        },
        "id": "ONcI9w_c-uhy",
        "outputId": "d828d755-7148-49c3-9668-9368b3fbd61f"
      },
      "execution_count": 7,
      "outputs": [
        {
          "output_type": "stream",
          "name": "stdout",
          "text": [
            "Collecting pyvolve\n",
            "  Downloading Pyvolve-1.1.0-py3-none-any.whl.metadata (455 bytes)\n",
            "Requirement already satisfied: numpy>=1.20.0 in /usr/local/lib/python3.10/dist-packages (from pyvolve) (1.26.4)\n",
            "Requirement already satisfied: scipy in /usr/local/lib/python3.10/dist-packages (from pyvolve) (1.13.1)\n",
            "Collecting Biopython (from pyvolve)\n",
            "  Downloading biopython-1.84-cp310-cp310-manylinux_2_17_x86_64.manylinux2014_x86_64.whl.metadata (12 kB)\n",
            "Downloading Pyvolve-1.1.0-py3-none-any.whl (177 kB)\n",
            "\u001b[2K   \u001b[90m━━━━━━━━━━━━━━━━━━━━━━━━━━━━━━━━━━━━━━━━\u001b[0m \u001b[32m177.8/177.8 kB\u001b[0m \u001b[31m4.3 MB/s\u001b[0m eta \u001b[36m0:00:00\u001b[0m\n",
            "\u001b[?25hDownloading biopython-1.84-cp310-cp310-manylinux_2_17_x86_64.manylinux2014_x86_64.whl (3.2 MB)\n",
            "\u001b[2K   \u001b[90m━━━━━━━━━━━━━━━━━━━━━━━━━━━━━━━━━━━━━━━━\u001b[0m \u001b[32m3.2/3.2 MB\u001b[0m \u001b[31m42.2 MB/s\u001b[0m eta \u001b[36m0:00:00\u001b[0m\n",
            "\u001b[?25hInstalling collected packages: Biopython, pyvolve\n",
            "Successfully installed Biopython-1.84 pyvolve-1.1.0\n"
          ]
        }
      ]
    },
    {
      "cell_type": "code",
      "source": [
        "my_tree = pyvolve.read_tree(file = \"output_tree.txt\")"
      ],
      "metadata": {
        "id": "wvGbbIZV-6JS"
      },
      "execution_count": 8,
      "outputs": []
    },
    {
      "cell_type": "code",
      "source": [
        "parameters = {\"omega\":0.75, \"kappa\":3.25}\n",
        "my_model = pyvolve.Model(\"codon\", parameters)"
      ],
      "metadata": {
        "colab": {
          "base_uri": "https://localhost:8080/"
        },
        "id": "lr2az3xO_eQz",
        "outputId": "8c168ec6-f065-40b5-b292-fd20910851e4"
      },
      "execution_count": 9,
      "outputs": [
        {
          "output_type": "stream",
          "name": "stdout",
          "text": [
            "Using default codon model, GY-style.\n"
          ]
        }
      ]
    },
    {
      "cell_type": "code",
      "source": [
        "my_partition = pyvolve.Partition(models = my_model, size = 4000)\n",
        "my_evolver = pyvolve.Evolver(tree=my_tree, partitions = my_partition)\n",
        "my_evolver()"
      ],
      "metadata": {
        "id": "asZSDPgk_rsT"
      },
      "execution_count": 10,
      "outputs": []
    }
  ]
}